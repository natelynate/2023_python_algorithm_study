{
 "cells": [
  {
   "cell_type": "code",
   "execution_count": 3,
   "metadata": {},
   "outputs": [
    {
     "name": "stdout",
     "output_type": "stream",
     "text": [
      "[1, 5, 8, 14]\n",
      "[2, 3, 12, 13]\n",
      "[0, 8, 12, 19]\n",
      "19\n"
     ]
    }
   ],
   "source": [
    "\"\"\"\n",
    "Q31: 금광\n",
    "\n",
    "기존에는 dptable과 data array를 따로 만들어서 했었는데 \n",
    "이 경우는 메모이제이션 테이블과 데이터 array를 따로 생성할 필요 없이 한 array에서 모든 연산을 진행해도 상관 없다.\n",
    "따라서 입력값은 1차원으로 주어지기 때문에 이를 m, n 규격의 2차원 array로 변환하는 함수 transform_2d를 따로 생성함. \n",
    "각 칸에 대해서 (첫 번째 열은 제외) 올 수 있는 방향은 최대 3방향이므로 (가장자리에 있는 경우 2개로 줄어듦) 각각의 경우에서 \n",
    "이전 칸 + 현재 칸의 금 양을 더한 값 중 제일 높은 값을 새로운 칸들에 저장해나가는 방식으로 모든 칸을 갱신한 후, \n",
    "원하는 위치의 칸에 저장된 값을 반환하면 된다. \n",
    "\"\"\"\n",
    "\n",
    "def transform_2d(array:list, m:int, n:int) -> list:\n",
    "    \"\"\"\n",
    "    where m = row, n = column\n",
    "    \"\"\"\n",
    "    if len(array) != m * n: \n",
    "        print(\"incorrect dimension\")\n",
    "        return None\n",
    "    \n",
    "    array_2d = [[array[(n * i) + j] for j in range(n)] for i in range(m)]\n",
    "    return array_2d\n",
    "\n",
    "\n",
    "# T = int(input())\n",
    "T = 2\n",
    "for test_case in range(T):\n",
    "    N, M = 3, 4\n",
    "    # N, M = map(int, input().split()) # 3, 4\n",
    "    # array = list(map(int, input().split()))\n",
    "    array = [1, 3, 3, 2, 2, 1, 4, 1, 0, 6, 4, 7]\n",
    "    dptable = transform_2d(array, N, M)\n",
    "\n",
    "    for col in range(1, M):\n",
    "        for row in range(N):\n",
    "            if row == 0: # row=0일 경우 이전 단계가 (왼편, 왼편하단) 2가지로 줄어든다\n",
    "                dptable[row][col] = dptable[row][col] + max(dptable[row+1][col-1], dptable[row][col-1])\n",
    "            elif row == N-1: # 같은 논리로 맨 끝 row의 경우도 이전 단계가 (왼편, 왼편상단) 2가지로 줄어든다\n",
    "                dptable[row][col] = dptable[row][col] + max(dptable[row-1][col-1], dptable[row][col-1])\n",
    "            else: # 그 외의 경우에는 왼편, 왼편상단, 왼편하단, 3가지 중 max를 취한다. \n",
    "                dptable[row][col] = dptable[row][col] + max(dptable[row-1][col-1], dptable[row][col-1], dptable[row+1][col-1])\n",
    "\n",
    "for i in dptable:\n",
    "    print(i)\n",
    "\n",
    "print(max([gold[-1] for gold in dptable])) # 맨 마지막 열의 원소들 중 최대 크기의 값을 반환함. "
   ]
  },
  {
   "cell_type": "code",
   "execution_count": 5,
   "metadata": {},
   "outputs": [
    {
     "name": "stdout",
     "output_type": "stream",
     "text": [
      "30\n"
     ]
    }
   ],
   "source": [
    "\"\"\"\n",
    "Q32 정수 삼각형\n",
    "https://www.acmicpc.net/problem/1932\n",
    "\n",
    "금광 문제와 매우 비슷하다. \n",
    "삼각형의 매 level 중 0번이나 -1번의 경우에만 max를 취하지 않고 이전 level의 값을 그대로 복사해서 가져오고, \n",
    "그게 아닌 경우 max()를 통해 2가지 경로 중 큰 수를 택한다. \n",
    "\"\"\"\n",
    "\n",
    "N = 5\n",
    "triangle = [[7], [3, 8], [8, 1, 0], [2, 7, 4, 4], [4, 5, 2, 6, 5]]\n",
    "\n",
    "# N = int(input())\n",
    "# triangle = [list(map(int, input().split())) for _ in range(N)]\n",
    "\n",
    "for level in range(1, N):\n",
    "    for row in range(row_width := len(triangle[level])):\n",
    "        if row == 0:\n",
    "            triangle[level][row] += triangle[level-1][row]\n",
    "\n",
    "        elif row == row_width - 1:\n",
    "            triangle[level][row] += triangle[level-1][-1]\n",
    "\n",
    "        else:\n",
    "            triangle[level][row] += max(triangle[level-1][row], triangle[level-1][row-1])\n",
    "    \n",
    "print(max(triangle[-1]))"
   ]
  },
  {
   "cell_type": "code",
   "execution_count": 12,
   "metadata": {},
   "outputs": [],
   "source": [
    "\"\"\"\n",
    "Q33: 퇴사\n",
    "\n",
    "https://www.acmicpc.net/problem/14501\n",
    "\n",
    "iwos\n",
    "\"\"\"\n",
    "\n",
    "N = int(input())\n",
    "durations = [] # 상담 완료하는데 소요되는 시간\n",
    "fees = [] # 각 상담별 수당\n",
    "dp = [0] * (N + 1) # 각 일자별로 현재까지의 최대값을 저장하는 dp테이블\n",
    "max_value = 0\n",
    "\n",
    "# 입력값 저장\n",
    "for _ in range(N):\n",
    "    d, f = map(int, input().split())\n",
    "    durations.append(d)\n",
    "    fees.append(f)\n",
    "\n",
    "for i in range(N-1, -1, -1): # 뒤에서부터 거꾸로 반복\n",
    "    # 해당 날짜에 잡힌 상담을 퇴사 전까지 끝마칠 수 있는지 확인\n",
    "    if durations[i] + i <= N:\n",
    "        dp[i] = max(fees[i] + dp[durations[i] + i], max_value)\n",
    "        max_value = dp[i]\n",
    "    # 만약 합이 N보다 크다면 기간 내로 할 수 없다는 뜻이므로 바로 이전까지 최대 값을 그대로 가져온다. \n",
    "    else: \n",
    "        dp[i] = max_value"
   ]
  },
  {
   "cell_type": "code",
   "execution_count": 14,
   "metadata": {},
   "outputs": [
    {
     "data": {
      "text/plain": [
       "'\\nQ34: 병사 배치하기\\n\\nhttps://www.acmicpc.net/problem/18353\\n\\n가장 긴 감소하는 부분 수열을 찾는 문제이므로, 입력값으로 주어진 array의 순서를 뒤집은 후 \"가장 긴 증가하는 부분 수열\"을 찾는 알고리즘을 그대로 적용한다.\\n숫자가 N개 있다고 했을 때, 각 숫자를 포함해서 이전의 증가하는 부분 수열의 크기를 담은 array를 선언한다고 가정한다 (이 array의 초기값은 1이다). \\n여기서 문제를 부분적으로 나눌 수 있는 계기는, index=4 까지 존재하는 증가하는 부분 수열은 index=5, 혹은 그 이상의 인덱스까지 있는 부분 수열의 전체가\\n포함된다는 것이므로, 부분문제들의 합으로 다음 단계의 답을 도출할 수 있다는 것이다. \\n예컨대, index=4까지의 증가하는 부분수열의 합을 알고 있다고 가정한다면, index=5의 저장될 숫자는 이전 부분수열의 합에서 +1보다 큰 어떤 값일 것이다. \\n만약 index5의 값 > index4의 값 이면 index4까지의 부분수열의 합에서 +1이 증가된 형태일 것. \\n\\n\\n\\n'"
      ]
     },
     "execution_count": 14,
     "metadata": {},
     "output_type": "execute_result"
    }
   ],
   "source": [
    "\"\"\"\n",
    "Q34: 병사 배치하기\n",
    "\n",
    "https://www.acmicpc.net/problem/18353\n",
    "\n",
    "가장 긴 감소하는 부분 수열을 찾는 문제이므로, 입력값으로 주어진 array의 순서를 뒤집은 후 \"가장 긴 증가하는 부분 수열\"을 찾는 알고리즘을 그대로 적용한다.\n",
    "숫자가 N개 있다고 했을 때, 각 숫자를 포함해서 이전의 증가하는 부분 수열의 크기를 담은 array를 선언한다고 가정한다 (이 array의 초기값은 1이다). \n",
    "여기서 문제를 부분적으로 나눌 수 있는 계기는, index=4 까지 존재하는 증가하는 부분 수열은 index=5, 혹은 그 이상의 인덱스까지 있는 부분 수열의 전체가\n",
    "포함된다는 것이므로, 부분문제들의 합으로 다음 단계의 답을 도출할 수 있다는 것이다. \n",
    "예컨대, index=4까지의 증가하는 부분수열의 합을 알고 있다고 가정한다면, index=5의 저장될 숫자는 이전 부분수열의 합에서 +1보다 큰 어떤 값일 것이다. \n",
    "만약 index5의 값 > index4의 값 이면 index4까지의 부분수열의 합에서 +1이 증가된 형태일 것. \n",
    "\n",
    "따라서 dp와 data_array를 따로 두고 진행한다.\n",
    "\n",
    "iwos\n",
    "\"\"\"\n",
    "\n",
    "n = int(input())\n",
    "array = list(map(int, input().split()))\n",
    "array.reverse()\n",
    "\n",
    "dp = [1] * n # 1차원 dp테이블 생성. 초기값은 1로 책정함\n",
    "\n",
    "# 0번 인덱스를 제외하고 1번 인덱스에서부터 전체 array가 끝날 때까지 반복함\n",
    "for i in range(1, n):\n",
    "    for j in range(0, i): # 현재 인덱스보다 작은 인덱스들을 모두 순회\n",
    "        if array[j] < array[i]:\n",
    "            dp[i] = max(dp[i], dp[j]+1) \n",
    "\n",
    "# 가장 긴 증가하는 부분 수열의 길이를 max()함수로 찾고 전체 병사 수 n에서 빼게되면 빼야 되는 병사 숫자를 알 수 있음\n",
    "print(n - max(dp))"
   ]
  },
  {
   "cell_type": "code",
   "execution_count": null,
   "metadata": {},
   "outputs": [],
   "source": [
    "\"\"\"\n",
    "Q35: 못생긴 수\n",
    "\n",
    "직접 소인수분해를 하는 방식으로는 택도 없음. 못생긴 수의 조건은 2, 3, 5만을 약수로 가진다고 했음. 여기서 못생긴 수의 2, 3, 5를 곱한 수도\n",
    "자연스럽게 못생긴 수가 된다는 점을 이용해야 함. 무조건 작은 수부터 처리해야하므로 \n",
    "자체적으로 정렬되는 heapq를 사용할 수 있음 (공식 풀이가 좀 맘에 안들었음)\n",
    "2, 3, 5를 곱한 수를 추가할 때 같은 숫자가 1번 이상 등장할 경우를 대비해 uglies를 set으로 두고 거기에 add하다가 \n",
    "직전에 리스트로 변환하는 방식을 취함. \n",
    "\n",
    "\n",
    "다만 해당 풀이는 worst-case를 가정했을 때 타임아웃 난다.  \n",
    "\"\"\"\n",
    "import heapq\n",
    "\n",
    "n = int(input())\n",
    "uglies = set() \n",
    "heapqueue = []\n",
    "heapq.heappush(heapqueue, 1) # 제일 첫 번째 못생긴 숫자는 1이므로 heapq에 1을 넣어준다\n",
    "limit = (2**333) \n",
    "while heapqueue:\n",
    "    num = heapq.heappop(heapqueue)\n",
    "    if num > limit: #\n",
    "        break\n",
    "\n",
    "    else:\n",
    "        uglies.add(num) # pop해온 숫자를 uglies에 추가한 후 2, 3, 4를 곱한 값을 heapq에 새로 삽입\n",
    "        heapq.heappush(heapqueue, num * 2)\n",
    "        heapq.heappush(heapqueue, num * 3)\n",
    "        heapq.heappush(heapqueue, num * 5)\n",
    "\n",
    "# set인 uglies에서 n-1번째 원소를 반환해야 하는데 set은 subscriptable하지 않으므로 리스트로 형변환 해야함 \n",
    "uglies = list(uglies)\n",
    "uglies = sorted(uglies)\n"
   ]
  },
  {
   "cell_type": "code",
   "execution_count": 1,
   "metadata": {},
   "outputs": [
    {
     "data": {
      "text/plain": [
       "3"
      ]
     },
     "execution_count": 1,
     "metadata": {},
     "output_type": "execute_result"
    }
   ],
   "source": [
    "\"\"\"\n",
    "Q36: 편집거리\n",
    "\n",
    "어떻게 이런 문제를..\n",
    "\"\"\"\n",
    "def solution(str1, str2):\n",
    "    n = len(str1)\n",
    "    m = len(str2)\n",
    "\n",
    "    dp = [[0] * (m + 1) for _ in range(n + 1)]\n",
    "\n",
    "    for i in range(1, n + 1): # 첫 번째 열을 0~n까지의 수로 채움\n",
    "        dp[i][0] = i\n",
    "    for j in range(1, m + 1): # 첫 번째 행을 0~m까지 채움\n",
    "        dp[0][j] = j \n",
    "    \n",
    "    for i in range(1, n+1):\n",
    "        for j in range(1, m+1):\n",
    "            # 문자가 같으면 왼쪽 위에 해당하는 수를 그대로 대입. \n",
    "            # 편집이 필요 없기 때문에 바로 전 단계까지의 편집거리를 그대로 복사하면 됨. \n",
    "            if str1[i - 1] == str2[j - 1]: \n",
    "                dp[i][j] = dp[i - 1][j - 1]\n",
    "            \n",
    "            else:\n",
    "                # 만약 문자가 다른 경우 삽입, 삭제, 교체 중 최소 비용인 것으로 수행함\n",
    "                # 삽입: 왼쪽칸\n",
    "                dp[i][j] = 1 + min(dp[i][j - 1], dp[i - 1][j], dp[i - 1][j - 1])\n",
    "   \n",
    "    # 최종적으로 맨 우측 하단의 값이 교체비용이 되고 지금까지 최소 비용만 선택했으므로 최소의 총 교체비용이라고 간주할 수 있다.  \n",
    "    return dp[n][m]\n",
    "\n",
    "solution(\"sunday\", \"saturday\")"
   ]
  }
 ],
 "metadata": {
  "kernelspec": {
   "display_name": "base",
   "language": "python",
   "name": "python3"
  },
  "language_info": {
   "codemirror_mode": {
    "name": "ipython",
    "version": 3
   },
   "file_extension": ".py",
   "mimetype": "text/x-python",
   "name": "python",
   "nbconvert_exporter": "python",
   "pygments_lexer": "ipython3",
   "version": "3.10.9"
  },
  "orig_nbformat": 4
 },
 "nbformat": 4,
 "nbformat_minor": 2
}
