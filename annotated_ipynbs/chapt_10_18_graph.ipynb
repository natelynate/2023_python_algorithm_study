{
 "cells": [
  {
   "cell_type": "code",
   "execution_count": null,
   "metadata": {},
   "outputs": [],
   "source": [
    "\"\"\"\n",
    "Q41 여행계획\n",
    "\n",
    "즉 여행계획에 속한 노드들이 모두 포함되는 부분 그래프가 존재하는지는 확인하는 문제로 치환될 수 있다.\n",
    "서로소 판별 알고리즘을 이용해서 같은 부모를 가진다면 같은 부분 그래프에 속한다고 판단할 수 있다.\n",
    "\"\"\"\n",
    "\n",
    "def find_parent(parent, node:int):\n",
    "    \"\"\"\n",
    "    노드의 부모노드를 재귀적으로 탐색함. 만약 이미 부모 노드가 등록되어 있으면 \n",
    "    \"\"\"\n",
    "    if parent[node] != node:\n",
    "        parent[node] = find_parent(parent, parent[node])\n",
    "    else:\n",
    "        return parent[node]\n",
    "    \n",
    "    \n",
    "def union(parent, node1, node2):\n",
    "    \"\"\"\n",
    "    node1과 node2의 부모를 찾아서 통일함\n",
    "    \"\"\"\n",
    "    a = find_parent(parent, node1)\n",
    "    b = find_parent(parent, node2)\n",
    "    \n",
    "    # parent의 대소에 따라 큰 쪽이 작은 쪽을 가리키도록 함\n",
    "    if a < b: #:\n",
    "        parent[b] = a\n",
    "    else:\n",
    "        parent[a] = b\n",
    "    return parent\n",
    "        \n",
    "N = int(input()) \n",
    "M = int(input())\n",
    "\n",
    "# connectivity matrix \n",
    "connectivity = [list(map(int, input().split())) for _ in range(N)]\n",
    "\n",
    "# 목표 서브그래프에 속한 노드 리스트\n",
    "travel_plan = list(map(int, input().split()))\n",
    "\n",
    "# 부모 노드 리스트 생성(최초 생성 시에는 자기 자신의 번호를 할당)\n",
    "parent = list(range(1, N+1))\n",
    "\n",
    "# 서로소 알고리즘 시작\n",
    "for node1 in range(1, N+1):\n",
    "    for node2 in range(1, N+1):\n",
    "        if connectivity[node1-1][node2-1] == 1: # 간선이 있을 경우\n",
    "            parent = union(parent, node1, node2)\n",
    "\n",
    "# travel_plan 리스트에 있는 모든 노드가 같은 부모를 가지는지 확인\n",
    "common_parent = parent[travel_plan[0]] # travel_plan에 속한 임의의 노드의 parent를 공통 부모로 간주\n",
    "for node in travel_plan:\n",
    "    if parent[node] != common_parent: # travel_plan에 속한 노드 중 하나라도 공통부모가 다르다면 NO를 출력하고 반복문 종료 \n",
    "        print(\"NO\")\n",
    "        break\n",
    "else:\n",
    "    print(\"YES\")"
   ]
  },
  {
   "cell_type": "code",
   "execution_count": null,
   "metadata": {},
   "outputs": [],
   "source": [
    "\"\"\"\n",
    "Q42 탑승구\n",
    "\n",
    "일단 논리적으로 탑승 범위가 좁은 비행기부터 도킹시키는 것이 유리함. 정렬 후 \n",
    "\"\"\"\n",
    "\n",
    "G = int(input())\n",
    "P = int(input())\n"
   ]
  },
  {
   "cell_type": "code",
   "execution_count": 37,
   "metadata": {},
   "outputs": [
    {
     "name": "stdout",
     "output_type": "stream",
     "text": [
      "51\n"
     ]
    }
   ],
   "source": [
    "\"\"\"\n",
    "Q43 어두운 길\n",
    "\n",
    "최소신장트리를 만드는 문제이다. 즉 모든 간선들을 비용 순으로 상향정렬한 후 하나씩 최소신장트리에 더하면서 모든 노드가 포함되는 순간 종료하면\n",
    "이것이 현재 최소한의 비용을 가진 최소신장트리이다. 그리고 sum(전체 간선 비용) - sum(최소신장트리 간선 비용)을 하면 곧 절약할 수 있는 \n",
    "최대 금액이다. \n",
    "\"\"\"\n",
    "\n",
    "def find_parent(parent, node):\n",
    "    if parent[node] != node:\n",
    "        parent[node] = find_parent(parent, parent[node])\n",
    "    return parent[node]\n",
    "        \n",
    "\n",
    "def union(parent, node1, node2):\n",
    "    p1 = find_parent(parent, node1)\n",
    "    p2 = find_parent(parent, node2)\n",
    "    if p1 < p2:\n",
    "        parent[p2] = p1\n",
    "    else:\n",
    "        parent[p1] = p2\n",
    "    return parent\n",
    "\n",
    "# 집,도로 개수 입력\n",
    "house, road = map(int, input().split())\n",
    "\n",
    "# 간선 입력\n",
    "edges = [list(map (int, input().split())) for _ in range(road)]\n",
    "\n",
    "# 간선을 비용 순서대로 상향 정렬\n",
    "edges.sort(key=lambda x: x[2])\n",
    "\n",
    "# 부모 노드 리스트 생성\n",
    "parent = [i for i in range(house)]\n",
    "\n",
    "# 최소신장트리의 총 비용 합\n",
    "total = sum([i[2] for i in edges])\n",
    "tree_total = 0\n",
    "\n",
    "for edge in edges:\n",
    "    node1, node2, cost = edge\n",
    "    if find_parent(parent, node1) != find_parent(parent, node2): # 만약 두 노드의 부모가 다르다면 사이클 x \n",
    "        parent = union(parent, node1, node2)\n",
    "        tree_total += cost\n",
    "        \n",
    "print(total - tree_total)"
   ]
  },
  {
   "cell_type": "code",
   "execution_count": null,
   "metadata": {},
   "outputs": [],
   "source": [
    "\"\"\"\n",
    "Q44 행성 터널\n",
    "\"\"\""
   ]
  },
  {
   "cell_type": "code",
   "execution_count": null,
   "metadata": {},
   "outputs": [],
   "source": [
    "\"\"\"\n",
    "Q45 최종 순위\n",
    "\"\"\""
   ]
  }
 ],
 "metadata": {
  "kernelspec": {
   "display_name": "aivle",
   "language": "python",
   "name": "python3"
  },
  "language_info": {
   "codemirror_mode": {
    "name": "ipython",
    "version": 3
   },
   "file_extension": ".py",
   "mimetype": "text/x-python",
   "name": "python",
   "nbconvert_exporter": "python",
   "pygments_lexer": "ipython3",
   "version": "3.11.3"
  },
  "orig_nbformat": 4
 },
 "nbformat": 4,
 "nbformat_minor": 2
}
